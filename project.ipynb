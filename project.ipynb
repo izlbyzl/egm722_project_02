{
 "cells": [
  {
   "cell_type": "code",
   "execution_count": null,
   "id": "14e3ed73-262b-49fc-b89f-8c147848668e",
   "metadata": {},
   "outputs": [],
   "source": [
    "%matplotlib widget \n",
    "import os \n",
    "import numpy as np\n",
    "import geopandas as gpd\n",
    "import matplotlib.pyplot as plt\n",
    "from cartopy.feature import ShapelyFeature\n",
    "import cartopy.crs as ccrs\n",
    "import matplotlib.patches as mpatches\n",
    "import matplotlib.lines as mlines\n",
    "import pandas as pd\n",
    "from shapely.geometry import Point\n",
    "from pyproj import CRS\n",
    "plt.ion()"
   ]
  },
  {
   "cell_type": "code",
   "execution_count": null,
   "id": "b70098db-6fd7-4f27-bd68-0ab9f447d832",
   "metadata": {},
   "outputs": [],
   "source": [
    "# read in files and data\n",
    "outline = gpd.read_file(os.path.abspath('data_files/NI_outline.shp')) \n",
    "towns = gpd.read_file(os.path.abspath('data_files/Towns.shp'))\n",
    "counties = gpd.read_file(os.path.abspath('data_files/Counties.shp'))\n",
    "water = gpd.read_file(os.path.abspath('data_files/Water.shp'))\n",
    "aonb = gpd.read_file(os.path.abspath('data_files/AONB.shp'))\n",
    "assi = gpd.read_file(os.path.abspath('data_files/ASSI.shp'))\n",
    "\n",
    "lepi = pd.read_csv('data_files/egm722_project_data_NBN.csv')"
   ]
  },
  {
   "cell_type": "code",
   "execution_count": null,
   "id": "1d0fa532-63f1-48b2-baea-c649a7c6e32f",
   "metadata": {},
   "outputs": [],
   "source": [
    "# set dataframes crs to EPSG: 32629, WGS84/UTM zone 29\n",
    "outline = outline.set_crs('epsg:4326') \n",
    "towns = towns.set_crs('epsg:4326') \n",
    "counties = counties.set_crs('epsg:4326') \n",
    "water = water.set_crs('epsg:4326') \n",
    "aonb = aonb.set_crs('epsg:4326') \n",
    "assi = assi.set_crs('epsg:4326') "
   ]
  },
  {
   "cell_type": "code",
   "execution_count": null,
   "id": "ba50c8bf-2753-4fc9-9700-da0f37d278e0",
   "metadata": {},
   "outputs": [],
   "source": [
    "# define generate handles function\n",
    "def generate_handles(labels, colors, edge='k', alpha=1):\n",
    "    \n",
    "    '''\n",
    "    Generate matplotlib handles to create a legend for each feature on the map.\n",
    "\n",
    "    Parameters\n",
    "    ----------\n",
    "\n",
    "    labels: list(str) - text labels of features to show on legend.\n",
    "    colors: list(matplotlib color) - colors used for each feature on map.\n",
    "    edge: matplotlib color (default: 'k') - color to use for edge of legend patches\n",
    "    alpha: float (default: 1.0) - alpha value to use for legend patches\n",
    "\n",
    "    Returns\n",
    "    -------\n",
    "\n",
    "    handles: list(matplotlib.patches.Rectangle) - list of legend patches to pass to ax.legend()\n",
    "\n",
    "    '''\n",
    "    lc = len(colors) # gets length of colour list\n",
    "    handles = [] # create an empty list\n",
    "    for ii in range(len(labels)): # for each label/colour pair, make an empty box for legend\n",
    "        handles.append(mpatches.Rectangle((0, 0), 1, 1, facecolor=colors[ii % lc], edgecolor = edge, alpha=alpha))\n",
    "    return handles"
   ]
  },
  {
   "cell_type": "code",
   "execution_count": null,
   "id": "1dc0b6bf-1d5f-4eae-b9a6-b2c69f101a05",
   "metadata": {},
   "outputs": [],
   "source": [
    "# convert the lepi DataFrame to a GeoDataFrame\n",
    "lepi['geometry'] = list(zip(lepi['Latitude (WGS84)'], lepi['Longitude (WGS84)'])) # create geometry column using lat/long columns and zip together\n",
    "lepi['geometry'] = lepi['geometry'].apply(Point) # turn the geometry column into points"
   ]
  },
  {
   "cell_type": "code",
   "execution_count": null,
   "id": "5fe542a1-8857-4531-a58b-8e6c2107e1ac",
   "metadata": {},
   "outputs": [],
   "source": [
    "del lepi['Latitude (WGS84)'], lepi['Longitude (WGS84)'], lepi['Data provider'] # remove unwanted columns\n",
    "lepi = gpd.GeoDataFrame(lepi) # create the new GeoDataFrame\n",
    "lepi = lepi.set_crs('EPSG:32629') # set coordinate system to epsg:32629/wgs84 lat/lon"
   ]
  },
  {
   "cell_type": "code",
   "execution_count": null,
   "id": "f2f87bdb-09c1-47f2-8abc-183e424b3f07",
   "metadata": {},
   "outputs": [],
   "source": [
    "lepi = lepi.rename(columns={'Scientific name': 'sci_name', 'Common name': 'com_name', 'Start date': 'date'}) # rename columns"
   ]
  },
  {
   "cell_type": "code",
   "execution_count": null,
   "id": "5aa176c4-4aae-4356-9425-d0f0a18b6ea1",
   "metadata": {},
   "outputs": [],
   "source": [
    "lepi.to_file('lepi_points.shp') # save to shapefile"
   ]
  },
  {
   "cell_type": "code",
   "execution_count": null,
   "id": "ce4a5e5c-cae3-4a0e-b970-6c31feec6e5f",
   "metadata": {},
   "outputs": [],
   "source": [
    "ni_utm = ccrs.UTM(29) # create utm reference system to transform data"
   ]
  },
  {
   "cell_type": "code",
   "execution_count": null,
   "id": "545313ef-b4af-4d64-a182-c2671a9735bc",
   "metadata": {},
   "outputs": [],
   "source": [
    "fig = plt.figure(figsize=(8, 8)) # create a figure 8x8 (page size in inches)\n",
    "ax = plt.axes(projection=ni_utm) # create an axis object in figure using utm projection"
   ]
  },
  {
   "cell_type": "code",
   "execution_count": null,
   "id": "1855f6fc-d4a0-4149-bfdb-8d608ce8b6c7",
   "metadata": {},
   "outputs": [],
   "source": [
    "outline_feature = ShapelyFeature(outline['geometry'], ni_utm, edgecolor='k', facecolor='w') # add NI outline to map\n",
    "ax.add_feature(outline_feature)"
   ]
  },
  {
   "cell_type": "code",
   "execution_count": null,
   "id": "d88c2ecc-9a56-4a91-8342-a6927fbf513d",
   "metadata": {},
   "outputs": [],
   "source": [
    "xmin, ymin, xmax, ymax = outline.total_bounds # using boundary of outline features, zooms map to NI\n",
    "ax.set_extent([xmin-5000, xmax+5000, ymin-5000, ymax+5000], crs=ni_utm) # reordered coordinates for set_extent"
   ]
  },
  {
   "cell_type": "code",
   "execution_count": null,
   "id": "fe27591d-3585-4da7-bb0e-e821fcce09a0",
   "metadata": {},
   "outputs": [],
   "source": [
    "num_counties = len(counties.CountyName.unique()) # get the number of unique counties"
   ]
  },
  {
   "cell_type": "code",
   "execution_count": null,
   "id": "aa2ca51f-83d0-4279-9636-1b7f64c80af1",
   "metadata": {
    "scrolled": true
   },
   "outputs": [],
   "source": [
    "county_colors = ['#665191', '#a05195', '#d45087', '#f95d6a', '#ff7c43', '#ffa600'] # pick colours for individual counties\n",
    "county_names = list(counties.CountyName.unique()) # get list of individual county names\n",
    "county_names.sort() # sort counties alphabetically\n",
    "\n",
    "for ii, name in enumerate(county_names):\n",
    "    feat = ShapelyFeature(counties.loc[counties['CountyName'] == name, 'geometry'], \n",
    "                          ccrs.CRS(outline.crs),\n",
    "                          edgecolor='k', # outlines in black\n",
    "                          facecolor=county_colors[ii], # set face colour to colour from list\n",
    "                          linewidth=1,\n",
    "                          alpha=0.25) # set transparencyto be 1/4 \n",
    "                          \n",
    "ax.add_feature(feat)\n",
    "\n",
    "fig"
   ]
  },
  {
   "cell_type": "code",
   "execution_count": null,
   "id": "aee9f420-cc26-400c-b874-17bef8aed167",
   "metadata": {},
   "outputs": [],
   "source": [
    "# add the water features with single colour symbology\n",
    "water_feat = ShapelyFeature(water['geometry'],\n",
    "                            ccrs.CRS(water.crs),\n",
    "                            edgecolor='mediumblue',\n",
    "                            facecolor='mediumblue', \n",
    "                            linewidth=1)\n",
    "ax.add_feature(water_feat)\n",
    "fig"
   ]
  },
  {
   "cell_type": "code",
   "execution_count": null,
   "id": "fe4c3865-70fa-4874-ad84-798e350522b3",
   "metadata": {},
   "outputs": [],
   "source": [
    "# add towns\n",
    "town_handle = ax.plot(towns.geometry.x, towns.geometry.y, 's', color='0.5', ms=6, transform=ccrs.PlateCarree())\n",
    "fig"
   ]
  },
  {
   "cell_type": "code",
   "execution_count": null,
   "id": "dc46c4e9-66a8-42ab-8255-e9d98e6c8816",
   "metadata": {},
   "outputs": [],
   "source": [
    "lepi_handle = ax.plot(lepi.geometry.x, lepi.geometry.y, 'o', color='pink', ms=6, transform=ccrs.PlateCarree())\n",
    "fig"
   ]
  },
  {
   "cell_type": "code",
   "execution_count": null,
   "id": "0e8e7ec0-a1b6-4899-8119-3a7bcbfa0049",
   "metadata": {
    "scrolled": true
   },
   "outputs": [],
   "source": [
    "counties.plot()\n",
    "plt.show()"
   ]
  },
  {
   "cell_type": "code",
   "execution_count": null,
   "id": "a0b846a3-a56f-45d6-a8fa-77d97727b7d6",
   "metadata": {},
   "outputs": [],
   "source": []
  }
 ],
 "metadata": {
  "kernelspec": {
   "display_name": "Python 3 (ipykernel)",
   "language": "python",
   "name": "python3"
  },
  "language_info": {
   "codemirror_mode": {
    "name": "ipython",
    "version": 3
   },
   "file_extension": ".py",
   "mimetype": "text/x-python",
   "name": "python",
   "nbconvert_exporter": "python",
   "pygments_lexer": "ipython3",
   "version": "3.13.2"
  }
 },
 "nbformat": 4,
 "nbformat_minor": 5
}
