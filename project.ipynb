{
 "cells": [
  {
   "cell_type": "code",
   "execution_count": null,
   "id": "14e3ed73-262b-49fc-b89f-8c147848668e",
   "metadata": {},
   "outputs": [],
   "source": [
    "import os \n",
    "import numpy as np\n",
    "import geopandas as gpd\n",
    "import matplotlib.pyplot as plt\n",
    "from cartopy.feature import ShapelyFeature\n",
    "import cartopy.crs as ccrs\n",
    "import matplotlib.patches as mpatches\n",
    "import matplotlib.lines as mlines\n",
    "import pandas as pd\n",
    "\n",
    "plt.ion()"
   ]
  },
  {
   "cell_type": "code",
   "execution_count": null,
   "id": "b70098db-6fd7-4f27-bd68-0ab9f447d832",
   "metadata": {},
   "outputs": [],
   "source": [
    "outline = gpd.read_file(os.path.abspath('data_files/NI_outline.shp'))\n",
    "towns = gpd.read_file(os.path.abspath('data_files/Towns.shp'))\n",
    "counties = gpd.read_file(os.path.abspath('data_files/Counties.shp'))\n",
    "water = gpd.read_file(os.path.abspath('data_files/Water.shp'))\n",
    "aonb = gpd.read_file(os.path.abspath('data_files/AONB.shp'))\n",
    "assi = gpd.read_file(os.path.abspath('data_files/ASSI.shp'))\n",
    "\n",
    "lepi = pd.read_csv('data_files/egm722_project_data_NBN.xlsx')\n",
    "lepi.head()"
   ]
  },
  {
   "cell_type": "code",
   "execution_count": null,
   "id": "1dc0b6bf-1d5f-4eae-b9a6-b2c69f101a05",
   "metadata": {},
   "outputs": [],
   "source": []
  },
  {
   "cell_type": "code",
   "execution_count": null,
   "id": "5fe542a1-8857-4531-a58b-8e6c2107e1ac",
   "metadata": {},
   "outputs": [],
   "source": []
  }
 ],
 "metadata": {
  "kernelspec": {
   "display_name": "Python 3 (ipykernel)",
   "language": "python",
   "name": "python3"
  },
  "language_info": {
   "codemirror_mode": {
    "name": "ipython",
    "version": 3
   },
   "file_extension": ".py",
   "mimetype": "text/x-python",
   "name": "python",
   "nbconvert_exporter": "python",
   "pygments_lexer": "ipython3",
   "version": "3.13.2"
  }
 },
 "nbformat": 4,
 "nbformat_minor": 5
}
