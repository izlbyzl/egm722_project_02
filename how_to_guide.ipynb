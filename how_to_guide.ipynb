{
 "cells": [
  {
   "cell_type": "markdown",
   "id": "1684906e-f8c5-427d-a98e-51f7b6c8ede9",
   "metadata": {},
   "source": [
    "# Mapping Lepidoptera Biodiversity Hotspots in Northern Ireland (2014 - 2024) using Python and NBN Atlas Data"
   ]
  },
  {
   "cell_type": "markdown",
   "id": "c944f450-23bd-4aec-980f-75cf1346e04b",
   "metadata": {},
   "source": [
    "## Introduction\n",
    "\n",
    "This project demonstrates how to map biodiversity hotspots for butterflies and moths in Northern Ireland using open data from the National Biodiversity Network (NBN) Atlas. The aim of the study is to visualise areas with high species richness and assess biodiversity patterns, helping inform conservation and land management efforts.  \n",
    "The project uses Python to process, clean and analyse lepidoptera occurrence data, and to create species richness maps. The maps will be overlain with protected areas for enhanced ecological insights. "
   ]
  },
  {
   "cell_type": "markdown",
   "id": "7accbfc0-b2f1-4304-b74f-6fd44213d14c",
   "metadata": {},
   "source": [
    "## Setup and Installation\n",
    "\n",
    "### Getting Started\n",
    "To get started on the project, <mark style='color: pink'>git</mark> and <mark>conda</mark> must be installed on your computer. The <mark>git</mark> installer for your operating system can be downloaded from [GitHub](https://git-scm.com/downloads).\n",
    "To install <mark>conda</mark>, the graphical interface Anaconda Navigator can be downloaded from [Anaconda](https://www.anaconda.com/download/success). \n",
    "\n",
    "### Optional Steps\n",
    "It is recommended to open a GitHub account to enable working through the project and to create a fork of the repository. A free account is available at [GitHub](https://github.com/).  \n",
    "\n",
    "It is also recommended to use an integrated development environment (IDE) such as PyCharm or VSCode to write your code. Downloads are available from:\n",
    "- **PyCharm Community Edition** [Jetbrains](https://www.jetbrains.com/pycharm/download/)\n",
    "- **VSCode** [Visual Studio Code](https://visualstudio.microsoft.com/downloads/)\n",
    "\n",
    "### Download/Clone the Project Repository\n",
    "The project repository is available at: \n",
    "[https://github.com/izlbyzl/egm722_project_02](https://github.com/izlbyzl/egm722_project_02)    \n",
    "First, fork the repository to your GitHub account, then clone your fork using the following command:  \n",
    "'''git clone https://github.com/{your username}/egm722_project_02'''  \n",
    "replacing <mark>{your_username}</mark> with your GitHub username.\n",
    "\n",
    "If you do not have a GitHub account, the project repository can be cloned using:  \n",
    "'''git clone https://github.com/izlbyzl/egm722_project_02'''\n",
    "\n",
    "### Setting up the Conda Environment\n",
    "After cloning the repository, a conda environment is created using the environment.yml file provided in the repository. \n",
    "\n",
    "Using Anaconda Navigator, select **Import** from the **Environments** panel.  \n",
    "Or  \n",
    "From the directory where the project is cloned, run command prompt or terminal with the following command:  \n",
    "'''conda env create -f environment.yml'''  \n",
    "\n",
    "The packages that this project requires are:\n",
    "- *geopandas*: for working with geospatial data [https://geopandas.org/en/stable/](https://geopandas.org/en/stable/) \n",
    "- *cartopy*: for producing maps and geospatial data analysis [https://scitools.org.uk/cartopy/docs/latest/](https://scitools.org.uk/cartopy/docs/latest/)\n",
    "- *jupyter-lab*: interactive script notebook [https://jupyter.org/](https://jupyter.org/)\n",
    "- *ipywidgets*: adds interactive widgets to Jupyter [https://ipywidgets.readthedocs.io/en/stable/](https://ipywidgets.readthedocs.io/en/stable/)\n",
    "- *rasterio*: for use with raster datasets [https://rasterio.readthedocs.io/en/stable/](https://rasterio.readthedocs.io/en/stable/)\n",
    "- *pyepsg*: provides access to EPSG codes [https://pyepsg.readthedocs.io/en/latest/](https://pyepsg.readthedocs.io/en/latest/)\n",
    "- *folium*: for visualising data and maps [https://python-visualization.github.io/folium/latest/](https://python-visualization.github.io/folium/latest/)\n",
    "\n",
    "### Additional Setup Steps\n",
    "Finally launch jupyter-lab from your conda environment and work through the code. "
   ]
  },
  {
   "cell_type": "markdown",
   "id": "02085361-96cc-45ac-9d54-d0c3823e0ae6",
   "metadata": {},
   "source": [
    "## Troubleshooting Tips\n",
    "\n",
    "### Python Troubleshooting\n",
    "When writing Python code, error messages and warnings will be frequently experienced and need to be addressed. For an experienced user, the type of error and attached message can help establish the issue, but novices may need to seek further help.  \n",
    "\n",
    "#### **Error Types**\n",
    "- NameError: check variables are defined and cells run\n",
    "- ModuleNotFoundError: check conda environment is correct\n",
    "- AttributeError: usually does not exist, check typos\n",
    "- KeyError: something does not exist, check dataframe columns\n",
    "- UserWarning: will still run code, but alerting to a future issue and suggesting modification  \n",
    "\n",
    "### Git Troubleshooting\n",
    "Problems will also occur when using git, where information can be lost or wrongly added. There are roll-back methods available in git to help resolve issues such as merge conflicts or restoring deleted branches. Commands that can be used to fix issues (geeksforgeeks, 2024) include:  \n",
    "- *--amend*\n",
    "- *rebase*\n",
    "- *reset*\n",
    "- *revert*\n",
    "- *bisect*\n",
    "To avoid problems using Git, it is good practice to make frequent commits with useful messages and to regularly synchronise the repository (Git Scripts, 2024).\n",
    "\n",
    "### Further Help\n",
    "Useful tips (Python Central, 2022) for writing code include: \n",
    "- use code that already works, look for scripts on Google and modify to suit\n",
    "- print outputs often, checks values are correct\n",
    "- run code after each change, makes errors easier to find\n",
    "- read error message and search for online\n",
    "- ask for help, there are many forums [StackOverflow, 2025](https://stackoverflow.com/questions) being popular."
   ]
  },
  {
   "cell_type": "markdown",
   "id": "912e598a-1dea-42ae-aee8-65783420c065",
   "metadata": {},
   "source": [
    "## References\n",
    "\n",
    "- geeksforgeeks (2024) *Common Git Problems and Their Fixes*. Available at: [https://www.geeksforgeeks.org/common-git-problems-and-their-fixes/](https://www.geeksforgeeks.org/common-git-problems-and-their-fixes/) (Accessed: 22 April 2025).\n",
    "- Git Scripts (2024) *Mastering Git Problems: Quick Fixes for Common Issues*. Available at: [https://gitscripts.com/git-problems](https://gitscripts.com/git-problems) (Accessed 22 April 2025).\n",
    "- Python Central (2022) *How to Solve Python Bugs for Python Novices*. Available at: [https://www.pythoncentral.io/how-to-solve-python-bugs-for-python-novices/](https://www.pythoncentral.io/how-to-solve-python-bugs-for-python-novices/) (Accessed: 22 April 2025).\n",
    "- StackOverflow (2025) *Newest Questions*. Available at: [https://stackoverflow.com/questions](https://stackoverflow.com/questions) (Accessed 22 April 2025)."
   ]
  }
 ],
 "metadata": {
  "kernelspec": {
   "display_name": "Python 3 (ipykernel)",
   "language": "python",
   "name": "python3"
  },
  "language_info": {
   "codemirror_mode": {
    "name": "ipython",
    "version": 3
   },
   "file_extension": ".py",
   "mimetype": "text/x-python",
   "name": "python",
   "nbconvert_exporter": "python",
   "pygments_lexer": "ipython3",
   "version": "3.13.2"
  }
 },
 "nbformat": 4,
 "nbformat_minor": 5
}
