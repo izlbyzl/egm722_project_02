{
 "cells": [
  {
   "cell_type": "code",
   "execution_count": null,
   "id": "8ac02eed-fea2-4e12-84a1-6ff6916b1ee4",
   "metadata": {},
   "outputs": [],
   "source": [
    "%matplotlib widget \n",
    "import os \n",
    "import numpy as np\n",
    "import geopandas as gpd\n",
    "import matplotlib.pyplot as plt\n",
    "from cartopy.feature import ShapelyFeature\n",
    "import cartopy.crs as ccrs\n",
    "import matplotlib.patches as mpatches\n",
    "import matplotlib.lines as mlines\n",
    "import pandas as pd\n",
    "from shapely.geometry import Point\n",
    "from pyproj import CRS\n",
    "plt.ion()"
   ]
  },
  {
   "cell_type": "code",
   "execution_count": null,
   "id": "beabe979-f387-4d56-87ef-65a52a740f17",
   "metadata": {},
   "outputs": [],
   "source": [
    "# function to assign and project correct CRS\n",
    "def set_and_reproj(gdf, current_epsg=32629, target_epsg=4326):\n",
    "    '''\n",
    "    Assigns current epsg to a GeoDataFrame if missing, then reprojects it to target CRS.\n",
    "\n",
    "    Parameters:\n",
    "    - gdf: GeoDataFrame\n",
    "    - current_epsg: EPSG code of current CRS (default: 32629)\n",
    "    - target_epsg: EPSG code to reproject to (default: 4326)\n",
    "\n",
    "    Returns:\n",
    "    - Reprojected GeoDataFrame\n",
    "    '''\n",
    "    if gdf.crs is None:\n",
    "        gdf = gdf.set_crs(epsg=current_epsg)\n",
    "        \n",
    "    return gdf.to_crs(epsg=target_epsg)\n",
    "    "
   ]
  },
  {
   "cell_type": "code",
   "execution_count": null,
   "id": "1a36163e-9d74-41d5-992f-b378de697be5",
   "metadata": {},
   "outputs": [],
   "source": [
    "# define generate handles function\n",
    "def generate_handles(labels, colors, edge='k', alpha=1):\n",
    "    \n",
    "    '''\n",
    "    Generate matplotlib handles to create a legend for each feature on the map.\n",
    "\n",
    "    Parameters\n",
    "    ----------\n",
    "\n",
    "    labels: list(str) - text labels of features to show on legend.\n",
    "    colors: list(matplotlib color) - colors used for each feature on map.\n",
    "    edge: matplotlib color (default: 'k') - color to use for edge of legend patches\n",
    "    alpha: float (default: 1.0) - alpha value to use for legend patches\n",
    "\n",
    "    Returns\n",
    "    -------\n",
    "\n",
    "    handles: list(matplotlib.patches.Rectangle) - list of legend patches to pass to ax.legend()\n",
    "\n",
    "    '''\n",
    "    lc = len(colors) # gets length of colour list\n",
    "    handles = [] # create an empty list\n",
    "    for ii in range(len(labels)): # for each label/colour pair, make an empty box for legend\n",
    "        handles.append(mpatches.Rectangle((0, 0), 1, 1, facecolor=colors[ii % lc], edgecolor = edge, alpha=alpha))\n",
    "    return handles"
   ]
  },
  {
   "cell_type": "code",
   "execution_count": null,
   "id": "9a003b51-8435-4245-8595-4c5fdf78e0f5",
   "metadata": {},
   "outputs": [],
   "source": [
    "# read in files and data\n",
    "outline = set_and_reproj(gpd.read_file('data_files/NI_outline.shp'))\n",
    "towns = set_and_reproj(gpd.read_file('data_files/Towns.shp'))\n",
    "counties = set_and_reproj(gpd.read_file('data_files/Counties.shp'))\n",
    "water = set_and_reproj(gpd.read_file('data_files/Water.shp'))\n",
    "aonb = set_and_reproj(gpd.read_file('data_files/AONB.shp'))\n",
    "assi = set_and_reproj(gpd.read_file('data_files/ASSI.shp'))"
   ]
  },
  {
   "cell_type": "code",
   "execution_count": null,
   "id": "fe4d1176-cfc6-4bd5-a146-7c0cf451eccd",
   "metadata": {},
   "outputs": [],
   "source": [
    "# read in NBN csv file\n",
    "lepi = pd.read_csv('data_files/egm722_project_data_NBN.csv')"
   ]
  },
  {
   "cell_type": "code",
   "execution_count": null,
   "id": "4261672f-fbe4-48a9-a986-6baa65d36986",
   "metadata": {},
   "outputs": [],
   "source": [
    "# convert the lepi DataFrame to a GeoDataFrame\n",
    "lepi['geometry'] = list(zip(lepi['Latitude (WGS84)'], lepi['Longitude (WGS84)'])) # create geometry column using lat/long columns and zip together\n",
    "lepi['geometry'] = lepi['geometry'].apply(Point) # turn the geometry column into points\n",
    "\n",
    "del lepi['Latitude (WGS84)'], lepi['Longitude (WGS84)'], lepi['Data provider'] # remove unwanted columns\n",
    "lepi = lepi.rename(columns={'Scientific name': 'sci_name', 'Common name': 'com_name', 'Start date': 'date'}) # rename columns\n",
    "lepi = gpd.GeoDataFrame(lepi) # create the new GeoDataFrame\n",
    "\n",
    "lepi = set_and_reproj(lepi) \n"
   ]
  },
  {
   "cell_type": "code",
   "execution_count": null,
   "id": "6f2abb0d-0252-42e1-aaea-24159af3733c",
   "metadata": {},
   "outputs": [],
   "source": [
    "lepi.to_file('lepi_points.shp') # save to shapefile"
   ]
  },
  {
   "cell_type": "code",
   "execution_count": null,
   "id": "055140a3-dbd9-4d4a-8041-12be66093e59",
   "metadata": {},
   "outputs": [],
   "source": [
    "ni_utm = ccrs.UTM(29) # create utm reference system to transform data"
   ]
  },
  {
   "cell_type": "code",
   "execution_count": null,
   "id": "9c68cc22-38f2-44aa-aa23-ec3fef33c4b9",
   "metadata": {},
   "outputs": [],
   "source": [
    "fig, ax = plt.subplots(figsize=(10, 10), subplot_kw={'projection': ni_utm})  # create a figure 10x10 (page size in inches) and an axis object in the figure using utm projection"
   ]
  },
  {
   "cell_type": "code",
   "execution_count": null,
   "id": "6320346a-0b66-480f-a2dd-fd56eb5a3a56",
   "metadata": {},
   "outputs": [],
   "source": [
    "outline_feature = ShapelyFeature(outline['geometry'], ni_utm, edgecolor='k', facecolor='w') # add NI outline to map\n",
    "ax.add_feature(outline_feature)"
   ]
  },
  {
   "cell_type": "code",
   "execution_count": null,
   "id": "fbb0465d-091c-473f-b4f5-e4d18798e3b5",
   "metadata": {},
   "outputs": [],
   "source": [
    "xmin, ymin, xmax, ymax = outline.total_bounds # using boundary of outline features, zooms map to NI\n",
    "ax.set_extent([xmin-5000, xmax+5000, ymin-5000, ymax+5000], crs=ni_utm) # reordered coordinates for set_extent\n",
    "\n",
    "fig"
   ]
  },
  {
   "cell_type": "code",
   "execution_count": null,
   "id": "e1511432-044f-44bb-938f-1c113d529b16",
   "metadata": {},
   "outputs": [],
   "source": []
  }
 ],
 "metadata": {
  "kernelspec": {
   "display_name": "Python 3 (ipykernel)",
   "language": "python",
   "name": "python3"
  },
  "language_info": {
   "codemirror_mode": {
    "name": "ipython",
    "version": 3
   },
   "file_extension": ".py",
   "mimetype": "text/x-python",
   "name": "python",
   "nbconvert_exporter": "python",
   "pygments_lexer": "ipython3",
   "version": "3.13.2"
  }
 },
 "nbformat": 4,
 "nbformat_minor": 5
}
