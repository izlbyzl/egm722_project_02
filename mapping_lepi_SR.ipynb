{
 "cells": [
  {
   "cell_type": "code",
   "execution_count": 59,
   "id": "8ac02eed-fea2-4e12-84a1-6ff6916b1ee4",
   "metadata": {},
   "outputs": [
    {
     "data": {
      "text/plain": [
       "<contextlib.ExitStack at 0x24e87ccec10>"
      ]
     },
     "execution_count": 59,
     "metadata": {},
     "output_type": "execute_result"
    }
   ],
   "source": [
    "%matplotlib widget \n",
    "import os \n",
    "import numpy as np\n",
    "import pandas as pd\n",
    "import geopandas as gpd\n",
    "from cartopy.feature import ShapelyFeature\n",
    "import cartopy.crs as ccrs\n",
    "import matplotlib.pyplot as plt\n",
    "import matplotlib.patches as mpatches\n",
    "import matplotlib.lines as mlines\n",
    "import shapely.geometry \n",
    "from shapely import Point, Polygon\n",
    "from pyproj import CRS\n",
    "plt.ion()"
   ]
  },
  {
   "cell_type": "code",
   "execution_count": 60,
   "id": "beabe979-f387-4d56-87ef-65a52a740f17",
   "metadata": {},
   "outputs": [],
   "source": [
    "# function to assign and project correct CRS\n",
    "def set_and_reproj(gdf, current_epsg=4326, target_epsg=32629):\n",
    "    '''\n",
    "    Assigns current epsg to a GeoDataFrame if missing, then reprojects it to target CRS.\n",
    "\n",
    "    Parameters:\n",
    "    -----------\n",
    "    - gdf: GeoDataFrame\n",
    "    - current_epsg: EPSG code of current CRS (default: 4326)\n",
    "    - target_epsg: EPSG code to reproject to (default: 32629)\n",
    "\n",
    "    Returns:\n",
    "    --------\n",
    "    - Reprojected GeoDataFrame\n",
    "    '''\n",
    "    if gdf.crs is None:\n",
    "        gdf = gdf.set_crs(epsg=current_epsg)\n",
    "        \n",
    "    return gdf.to_crs(epsg=target_epsg)\n",
    "    "
   ]
  },
  {
   "cell_type": "code",
   "execution_count": 61,
   "id": "7d693ce1-53a3-47d6-b04a-a601dc674a06",
   "metadata": {},
   "outputs": [],
   "source": [
    "# read in files and data using set_and_reproj function to assign crs\n",
    "outline = set_and_reproj(gpd.read_file('data_files/NI_outline.shp'), current_epsg=4326)\n",
    "towns = set_and_reproj(gpd.read_file('data_files/Towns.shp'), current_epsg=4326)\n",
    "counties = set_and_reproj(gpd.read_file('data_files/Counties.shp'), current_epsg=4326)\n",
    "water = set_and_reproj(gpd.read_file('data_files/Water.shp'), current_epsg=4326)\n",
    "aonb = set_and_reproj(gpd.read_file('data_files/AONB.shp'), current_epsg=4326)\n",
    "assi = set_and_reproj(gpd.read_file('data_files/ASSI.shp'), current_epsg=4326)"
   ]
  },
  {
   "cell_type": "code",
   "execution_count": 62,
   "id": "835ce316-d9e9-40c2-b86b-0cd8220e1df7",
   "metadata": {},
   "outputs": [],
   "source": [
    "# read in NBN csv file\n",
    "lepi = pd.read_csv('data_files/egm722_project_data_NBN.csv')"
   ]
  },
  {
   "cell_type": "code",
   "execution_count": 63,
   "id": "1a36163e-9d74-41d5-992f-b378de697be5",
   "metadata": {},
   "outputs": [],
   "source": [
    "# define generate handles function\n",
    "def generate_handles(labels, colors, edge='k', alpha=1):\n",
    "    \n",
    "    '''\n",
    "    Generate matplotlib handles to create a legend for each feature on the map.\n",
    "\n",
    "    Parameters\n",
    "    ----------\n",
    "\n",
    "    labels: list(str) - text labels of features to show on legend.\n",
    "    colors: list(matplotlib color) - colors used for each feature on map.\n",
    "    edge: matplotlib color (default: 'k') - color to use for edge of legend patches\n",
    "    alpha: float (default: 1.0) - alpha value to use for legend patches\n",
    "\n",
    "    Returns\n",
    "    -------\n",
    "\n",
    "    handles: list(matplotlib.patches.Rectangle) - list of legend patches to pass to ax.legend()\n",
    "\n",
    "    '''\n",
    "    lc = len(colors) # gets length of colour list\n",
    "    handles = [] # create an empty list\n",
    "    for ii in range(len(labels)): # for each label/colour pair, make an empty box for legend\n",
    "        handles.append(mpatches.Rectangle((0, 0), 1, 1, facecolor=colors[ii % lc], edgecolor = edge, alpha=alpha))\n",
    "    return handles"
   ]
  },
  {
   "cell_type": "code",
   "execution_count": 64,
   "id": "ff593567-51b7-4565-b1e6-4e3e71319c50",
   "metadata": {},
   "outputs": [],
   "source": [
    "def scale_bar(ax, length=20, location=(0.92, 0.95)):\n",
    "    \"\"\"\n",
    "    Create a scale bar in a cartopy GeoAxes.\n",
    "\n",
    "    Parameters\n",
    "    ----------\n",
    "\n",
    "    ax : cartopy.mpl.geoaxes.GeoAxes\n",
    "        the cartopy GeoAxes to add the scalebar to.\n",
    "\n",
    "    length : int, float (default 20)\n",
    "        the length of the scalebar, in km\n",
    "\n",
    "    location : tuple(float, float) (default (0.92, 0.95))\n",
    "        the location of the center right corner of the scalebar, in fractions of the axis.\n",
    "\n",
    "    Returns\n",
    "    -------\n",
    "    ax : cartopy.mpl.geoaxes.GeoAxes\n",
    "        the cartopy GeoAxes object\n",
    "\n",
    "    \"\"\"\n",
    "    x0, x1, y0, y1 = ax.get_extent() # get the current extent of the axis\n",
    "    sbx = x0 + (x1 - x0) * location[0] # get the right x coordinate of the scale bar\n",
    "    sby = y0 + (y1 - y0) * location[1] # get the right y coordinate of the scale bar\n",
    "\n",
    "    ax.plot([sbx, sbx-length*1000], [sby, sby], color='k', linewidth=4, transform=ax.projection) # plot a thick black line\n",
    "    ax.plot([sbx-(length/2)*1000, sbx-length*1000], [sby, sby], color='w', linewidth=2, transform=ax.projection) # plot a white line from 0 to halfway\n",
    "\n",
    "    ax.text(sbx, sby-(length/4)*1000, f\"{length} km\", ha='center', transform=ax.projection, fontsize=6) # add a label at the right side\n",
    "    ax.text(sbx-(length/2)*1000, sby-(length/4)*1000, f\"{int(length/2)} km\", ha='center', transform=ax.projection, fontsize=6) # add a label in the center\n",
    "    ax.text(sbx-length*1000, sby-(length/4)*1000, '0 km', ha='center', transform=ax.projection, fontsize=6) # add a label at the left side\n",
    "\n",
    "    return ax"
   ]
  },
  {
   "cell_type": "code",
   "execution_count": 65,
   "id": "804ca082-b849-407c-9328-eb4b2b3a1185",
   "metadata": {},
   "outputs": [],
   "source": [
    "def simpsons_diversity(abundances):\n",
    "    \"\"\"\n",
    "    Calculate Simpson's Diversity indices from species abundances.\n",
    "\n",
    "    Parameters:\n",
    "    -----------\n",
    "    abundances : array-like\n",
    "        List or array of species abundances\n",
    "\n",
    "    Returns:\n",
    "    --------\n",
    "    dict : Dictionary containing D, 1-D, and 1/D\n",
    "    \"\"\"\n",
    "    abundances = np.array(abundances)\n",
    "    total = abundances.sum()\n",
    "    proportions = abundances / total\n",
    "    D = np.sum(proportions ** 2)\n",
    "\n",
    "    return {\n",
    "        'D': D,\n",
    "        '1-D': 1 - D,\n",
    "        '1/D': 1 / D\n",
    "    }\n",
    "\n",
    "\n",
    "# function copied from The Research Scientist Pod (2024) Available at: https://researchdatapod.com/simpsons-diversity-index/ "
   ]
  },
  {
   "cell_type": "code",
   "execution_count": 66,
   "id": "4261672f-fbe4-48a9-a986-6baa65d36986",
   "metadata": {},
   "outputs": [],
   "source": [
    "# convert the lepi DataFrame to a GeoDataFrame\n",
    "lepi['geometry'] = list(zip(lepi['Longitude (WGS84)'], lepi['Latitude (WGS84)'])) # create geometry column using lat/long columns and zip together\n",
    "lepi['geometry'] = lepi['geometry'].apply(Point) # turn the geometry column into points\n",
    "\n",
    "del lepi['Longitude (WGS84)'], lepi['Latitude (WGS84)'], lepi['Data provider'], lepi['Common name'], lepi['Locality'] # remove unwanted columns\n",
    "lepi = lepi.rename(columns={'Scientific name': 'sci_name', 'Start date': 'date'}) # rename columns\n",
    "lepi = gpd.GeoDataFrame(lepi, geometry='geometry') # create the new GeoDataFrame\n",
    "\n",
    "lepi = set_and_reproj(lepi) # use set and reproject function to modify crs"
   ]
  },
  {
   "cell_type": "code",
   "execution_count": 67,
   "id": "6f2abb0d-0252-42e1-aaea-24159af3733c",
   "metadata": {},
   "outputs": [],
   "source": [
    "lepi.to_file('lepi_points.shp') # save to shapefile"
   ]
  },
  {
   "cell_type": "code",
   "execution_count": 68,
   "id": "055140a3-dbd9-4d4a-8041-12be66093e59",
   "metadata": {},
   "outputs": [],
   "source": [
    "ni_utm = ccrs.UTM(29) # create lat/long reference system to transform data"
   ]
  },
  {
   "cell_type": "code",
   "execution_count": 69,
   "id": "9c68cc22-38f2-44aa-aa23-ec3fef33c4b9",
   "metadata": {},
   "outputs": [
    {
     "data": {
      "application/vnd.jupyter.widget-view+json": {
       "model_id": "fd588c1a5c2e457494b76a3894f7e2c5",
       "version_major": 2,
       "version_minor": 0
      },
      "image/png": "[encoded data removed]",
      "text/html": [
       "\n",
       "            <div style=\"display: inline-block;\">\n",
       "                <div class=\"jupyter-widgets widget-label\" style=\"text-align: center;\">\n",
       "                    Figure\n",
       "                </div>\n",
       "                <img src='data:image/png;base64,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' width=800.0/>\n",
       "            </div>\n",
       "        "
      ],
      "text/plain": [
       "Canvas(toolbar=Toolbar(toolitems=[('Home', 'Reset original view', 'home', 'home'), ('Back', 'Back to previous …"
      ]
     },
     "metadata": {},
     "output_type": "display_data"
    }
   ],
   "source": [
    "fig, ax = plt.subplots(figsize=(8, 8), subplot_kw={'projection': ni_utm})  # create a figure 8x8 (page size in inches) and an axis object in the figure using utm projection\n",
    "\n",
    "xmin, ymin, xmax, ymax = outline.total_bounds # using boundary of outline features, zooms map to NI\n",
    "ax.set_extent([xmin-5000, xmax+5000, ymin-5000, ymax+5000], crs=ni_utm) # reordered coordinates for set_extent"
   ]
  },
  {
   "cell_type": "code",
   "execution_count": 70,
   "id": "1528b3e1-2e72-44e4-9e45-f063332310ee",
   "metadata": {},
   "outputs": [
    {
     "data": {
      "text/plain": [
       "<cartopy.mpl.feature_artist.FeatureArtist at 0x24e926ca710>"
      ]
     },
     "execution_count": 70,
     "metadata": {},
     "output_type": "execute_result"
    }
   ],
   "source": [
    "# add NI outline to map\n",
    "outline_feature = ShapelyFeature(outline['geometry'], ni_utm, edgecolor='k', facecolor='w') \n",
    "\n",
    "outline['area_km2'] = outline.geometry.area / 1e6 # add and calculate area in square km from geometry column\n",
    "del outline['area'] # delete old area column\n",
    "\n",
    "ax.add_feature(outline_feature)"
   ]
  },
  {
   "cell_type": "code",
   "execution_count": 71,
   "id": "66de1971-bac6-482d-bbee-6f410c3e7bbb",
   "metadata": {},
   "outputs": [
    {
     "name": "stdout",
     "output_type": "stream",
     "text": [
      "Number of unique features: 6\n"
     ]
    }
   ],
   "source": [
    "# get the number of unique counties in the dataset\n",
    "num_counties = len(counties.CountyName.unique())\n",
    "print(f'Number of unique features: {num_counties}') "
   ]
  },
  {
   "cell_type": "code",
   "execution_count": 72,
   "id": "59bff4c5-32bc-41ee-9979-d0282ccef966",
   "metadata": {},
   "outputs": [],
   "source": [
    "# add counties to the map\n",
    "county_colors = ['#665191','#a05195','#d45087','#f95d6a','#ff7c43','#ffa600'] # pick colours for individual counties\n",
    "\n",
    "# get a list of unique names for the county boundaries\n",
    "county_names = list(counties.CountyName.unique())\n",
    "county_names.sort() # sort counties alphabetically by name\n",
    "\n",
    "for ii, name in enumerate(county_names):\n",
    "    feat = ShapelyFeature(counties.loc[counties['CountyName'] == name, 'geometry'], # first argument is the geometry\n",
    "                          ccrs.CRS(counties.crs), # second argument is the CRS\n",
    "                          edgecolor='k', # outline in black\n",
    "                          facecolor=county_colors[ii], # set face color to corresponding color from the list\n",
    "                          linewidth=1, # set outline width as 1 pt\n",
    "                          alpha=0.2) # set alpha (transparency) to be 0.2 (out of 1)\n",
    "    ax.add_feature(feat) # add feature to map "
   ]
  },
  {
   "cell_type": "code",
   "execution_count": 73,
   "id": "c8ed1a3e-73ba-498e-8f0f-5fcdddb1ef10",
   "metadata": {},
   "outputs": [
    {
     "data": {
      "text/plain": [
       "<cartopy.mpl.feature_artist.FeatureArtist at 0x24e926cad50>"
      ]
     },
     "execution_count": 73,
     "metadata": {},
     "output_type": "execute_result"
    }
   ],
   "source": [
    "# add assi to map\n",
    "assi = ShapelyFeature(assi['geometry'],\n",
    "                      ni_utm,\n",
    "                      edgecolor='k',\n",
    "                      facecolor='lawngreen',\n",
    "                      linewidth=0.7)\n",
    "ax.add_feature(assi)"
   ]
  },
  {
   "cell_type": "code",
   "execution_count": 74,
   "id": "a0c795b4-6076-45af-bc80-2ca19b441bed",
   "metadata": {},
   "outputs": [
    {
     "data": {
      "text/plain": [
       "<cartopy.mpl.feature_artist.FeatureArtist at 0x24e926cae90>"
      ]
     },
     "execution_count": 74,
     "metadata": {},
     "output_type": "execute_result"
    }
   ],
   "source": [
    "# add aonb to map\n",
    "aonb = ShapelyFeature(aonb['geometry'],\n",
    "                      ni_utm,\n",
    "                      edgecolor='k',\n",
    "                      facecolor='green',\n",
    "                      linewidth=0.7,\n",
    "                     alpha=0.4)\n",
    "ax.add_feature(aonb)"
   ]
  },
  {
   "cell_type": "code",
   "execution_count": 75,
   "id": "3456cc21-7644-4b29-995d-ff02e23fbbb8",
   "metadata": {},
   "outputs": [
    {
     "data": {
      "text/plain": [
       "<cartopy.mpl.feature_artist.FeatureArtist at 0x24e926cafd0>"
      ]
     },
     "execution_count": 75,
     "metadata": {},
     "output_type": "execute_result"
    }
   ],
   "source": [
    "# add the water features with single colour symbology\n",
    "lakes  = ShapelyFeature(water['geometry'],\n",
    "                            ni_utm,\n",
    "                            edgecolor='royalblue',\n",
    "                            facecolor='royalblue', \n",
    "                            linewidth=1)\n",
    "ax.add_feature(lakes)"
   ]
  },
  {
   "cell_type": "code",
   "execution_count": 76,
   "id": "8105ce48-4768-4965-9a00-92516766c0c0",
   "metadata": {},
   "outputs": [],
   "source": [
    "# add towns\n",
    "towns_handle = ax.plot(towns.geometry.x, towns.geometry.y, 'o', color='#2f4b7c', ms=6)"
   ]
  },
  {
   "cell_type": "code",
   "execution_count": 77,
   "id": "b3b4f68b-7a33-4f3b-8980-44ad7f79fdfc",
   "metadata": {},
   "outputs": [],
   "source": [
    "# add lepi points\n",
    "lepi_handle = ax.plot(lepi.geometry.x, lepi.geometry.y, 'o', color='red', ms=0.5)"
   ]
  },
  {
   "cell_type": "code",
   "execution_count": 78,
   "id": "2143d815-2abe-4084-ba81-9a4cda1bca20",
   "metadata": {},
   "outputs": [],
   "source": [
    "# generate a list of handles for the datasets\n",
    "# add list of names, colors, and set transparency\n",
    "county_handle = generate_handles(counties.CountyName.unique(), county_colors, alpha=0.4)\n",
    "aonb_handle = generate_handles(['aonb'], ['green'], alpha=0.4)\n",
    "assi_handle = generate_handles(['assi'], ['lawngreen'])\n",
    "water_handle = generate_handles(['lakes'], ['royalblue'])"
   ]
  },
  {
   "cell_type": "code",
   "execution_count": 79,
   "id": "c7cfbdc0-30d7-4ba8-8153-983f8a16ee6f",
   "metadata": {},
   "outputs": [],
   "source": [
    "# update county_names to take out of uppercase text using .title()\n",
    "nice_names = []  # initalize an empty list\n",
    "for name in county_names:\n",
    "    nice_names.append(name.title())"
   ]
  },
  {
   "cell_type": "code",
   "execution_count": 80,
   "id": "f2cb0bd2-9ace-4603-82ae-e278d634c7d7",
   "metadata": {},
   "outputs": [],
   "source": [
    "# adds legend to map, using handles and labels corresponding to the objects\n",
    "\n",
    "handles = county_handle + water_handle + assi_handle + aonb_handle + towns_handle + lepi_handle # use '+' to concatenate (combine) lists\n",
    "labels = nice_names + ['Lakes', 'ASSI', 'AONB', 'Towns', 'Species Occurrence']\n",
    "\n",
    "leg = ax.legend(handles, labels, title='Legend', title_fontsize=12,\n",
    "                 fontsize=10, loc='upper left', frameon=True, framealpha=1)"
   ]
  },
  {
   "cell_type": "code",
   "execution_count": 81,
   "id": "1d00ec5d-efcc-4c46-b3c8-a827a7364d3a",
   "metadata": {},
   "outputs": [],
   "source": [
    "# adds gridlines with labels at 0.5 degree intervals\n",
    "gridlines = ax.gridlines(draw_labels=True, # draw  labels for the grid lines\n",
    "                         xlocs=[-8, -7.5, -7, -6.5, -6, -5.5], # add longitude lines at 0.5 deg intervals\n",
    "                         ylocs=[54, 54.5, 55, 55.5]) # add latitude lines at 0.5 deg intervals\n",
    "gridlines.left_labels = False # turn off the left-side labels\n",
    "gridlines.bottom_labels = False # turn off the bottom labels"
   ]
  },
  {
   "cell_type": "code",
   "execution_count": 82,
   "id": "0cd38ac9-a8c0-413d-a4a5-e18aba825821",
   "metadata": {},
   "outputs": [
    {
     "data": {
      "text/plain": [
       "<GeoAxes: >"
      ]
     },
     "execution_count": 82,
     "metadata": {},
     "output_type": "execute_result"
    }
   ],
   "source": [
    "scale_bar(ax) # place the scale bar from function above, in upper right corner of the map"
   ]
  },
  {
   "cell_type": "code",
   "execution_count": null,
   "id": "34173f7c-3f14-4896-9b81-cccf2e5936f0",
   "metadata": {},
   "outputs": [
    {
     "name": "stderr",
     "output_type": "stream",
     "text": [
      "C:\\Users\\byg-l\\anaconda\\envs\\project_env\\Lib\\site-packages\\cartopy\\mpl\\feature_artist.py:173: UserWarning: Unable to determine extent. Defaulting to global.\n",
      "  warnings.warn('Unable to determine extent. Defaulting to global.')\n"
     ]
    }
   ],
   "source": [
    "for ind, row in towns.iterrows(): # towns.iterrows() returns the index and row\n",
    "    x, y = row.geometry.x, row.geometry.y # get the x,y location for each town\n",
    "    ax.text(x, y, row['TOWN_NAME'].title(), fontsize=7) # use plt.text to place a label at x,y\n",
    "\n",
    "fig # to show the updated figure"
   ]
  },
  {
   "cell_type": "code",
   "execution_count": null,
   "id": "11513e2e-e1ac-4e70-9166-1998778971e1",
   "metadata": {},
   "outputs": [],
   "source": [
    "fig.savefig('map.png', bbox_inches='tight', dpi=300) # saves the map"
   ]
  },
  {
   "cell_type": "code",
   "execution_count": null,
   "id": "f32be780-83cd-4b8a-85f1-dc9539fa2ca9",
   "metadata": {},
   "outputs": [],
   "source": []
  },
  {
   "cell_type": "code",
   "execution_count": null,
   "id": "98cedeb5-ffde-4f7f-8ebe-10f4953641e8",
   "metadata": {},
   "outputs": [],
   "source": [
    "# how many unique species there are in Northern Ireland\n",
    "richness = lepi['sci_name'].nunique() # counts the number of unique species\n",
    "print(richness)"
   ]
  },
  {
   "cell_type": "code",
   "execution_count": null,
   "id": "a010cfaa-e808-461f-8894-eddd42eb6e37",
   "metadata": {},
   "outputs": [],
   "source": [
    "# Simpson's Biodiversity Index for Northern Ireland\n",
    "abundances = lepi['sci_name'].value_counts().values  # the lepidoptera example\n",
    "results = simpsons_diversity(abundances)\n",
    "print(f\"Simpson's Dominance (D): {results['D']:.3f}\") # prints dominance to 3 d.p.\n",
    "print(f\"Simpson's Diversity (1-D): {results['1-D']:.3f}\") # prints diversity to 3 d.p.\n",
    "print(f\"Simpson's Reciprocal (1/D): {results['1/D']:.3f}\") # prints reciprocal to 3 d.p.\n",
    "\n",
    "# Suf (2024)"
   ]
  },
  {
   "cell_type": "code",
   "execution_count": null,
   "id": "347e6585-32e7-4ce1-a200-ba93959144b5",
   "metadata": {},
   "outputs": [],
   "source": [
    "# spatially join lepi points to counties\n",
    "lepi_join_counties = gpd.sjoin(lepi, counties[['CountyName', 'geometry']], how='inner', lsuffix='left', rsuffix='right')\n",
    "lepi_join_counties.info()"
   ]
  },
  {
   "cell_type": "code",
   "execution_count": null,
   "id": "69dad2de-3949-45c6-bf09-e37214600cb2",
   "metadata": {},
   "outputs": [],
   "source": []
  },
  {
   "cell_type": "code",
   "execution_count": null,
   "id": "ce53f286-0611-459c-b434-806401d638ca",
   "metadata": {},
   "outputs": [],
   "source": []
  },
  {
   "cell_type": "code",
   "execution_count": null,
   "id": "37bf4f6c-3afe-41ea-8835-ccbc52c25b1d",
   "metadata": {},
   "outputs": [],
   "source": []
  },
  {
   "cell_type": "code",
   "execution_count": null,
   "id": "97c6b41c-5107-4944-b19a-df510b0d5e7f",
   "metadata": {},
   "outputs": [],
   "source": [
    "# aonb and assi data frames\n",
    "# lepi_join_assi = gpd.sjoin(lepi, assi[['geometry']], how='inner', )\n",
    "# lepi_join_aonb = gpd.sjoin(lepi, aonb[['geometry']], how='inner')"
   ]
  }
 ],
 "metadata": {
  "kernelspec": {
   "display_name": "Python 3 (ipykernel)",
   "language": "python",
   "name": "python3"
  },
  "language_info": {
   "codemirror_mode": {
    "name": "ipython",
    "version": 3
   },
   "file_extension": ".py",
   "mimetype": "text/x-python",
   "name": "python",
   "nbconvert_exporter": "python",
   "pygments_lexer": "ipython3",
   "version": "3.13.2"
  }
 },
 "nbformat": 4,
 "nbformat_minor": 5
}
